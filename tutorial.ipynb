{
 "cells": [
  {
   "cell_type": "markdown",
   "metadata": {},
   "source": [
    "## Collaborators:\n",
    "\n",
    "1. Akhil Shekkari (UID : 121322784)\n",
    "2. Anirudh Jayaprakash (UID : 120622342)"
   ]
  },
  {
   "cell_type": "markdown",
   "metadata": {},
   "source": [
    "## **Introduction**\n",
    "\n",
    "This project aims to analyze loan application df to predict whether a loan should be approved for an individual. When a customer applies for a loan, companies use statistical models to evaluate the likelihood of repayment. The decision-making process involves assessing various complex factors and conducting detailed statistical analysis and modeling to estimate the repayment probabilities for each applicant."
   ]
  },
  {
   "cell_type": "markdown",
   "metadata": {},
   "source": [
    "### **1. Motivation**\n",
    "\n",
    "**Risk Management:** Predicting whether a loan should be approved helps in managing financial risk. By accurately assessing the likelihood of repayment, the company can minimize the risk of defaults, which can have significant financial implications.\n",
    "\n",
    "**Profitability:** Effective loan approval processes directly impact the profitability of the lending institution. By approving loans to individuals who are likely to repay, the company can ensure a steady stream of revenue from interest payments while avoiding losses from bad debts.\n",
    "\n",
    "**Customer Satisfaction:** A streamlined and accurate loan approval process enhances customer satisfaction. Applicants receive quicker decisions, and those who are eligible for loans are more likely to be approved, leading to a better customer experience.\n",
    "\n",
    "### How Data Science Helps\n",
    "**Data Analysis:** df science techniques allow for the analysis of large volumes of loan application df to identify patterns and trends. This helps in understanding the factors that influence loan repayment and default.\n",
    "\n",
    "**Predictive Modeling:** Machine learning algorithms are used to build predictive models that estimate the likelihood of loan approval based on historical data. These models can be trained on labeled df to learn the patterns associated with approved and rejected loans."
   ]
  },
  {
   "cell_type": "code",
   "execution_count": null,
   "metadata": {
    "id": "ScNfUPv2nB6-"
   },
   "outputs": [],
   "source": [
    "# Import all necessary libraries at one place\n",
    "\n",
    "import warnings\n",
    "warnings.filterwarnings(\"ignore\")\n",
    "import pandas as pd\n",
    "import numpy as np\n",
    "import matplotlib.pyplot as plt\n",
    "import seaborn as sns\n",
    "import statistics\n",
    "from fancyimpute import SoftImpute\n",
    "\n"
   ]
  },
  {
   "cell_type": "markdown",
   "metadata": {},
   "source": [
    "### Data is downloaded from Kaggle\n",
    "\n",
    "Kaggle link: https://www.kaggle.com/datasets/sidd1996/loan-eligibility"
   ]
  },
  {
   "cell_type": "code",
   "execution_count": null,
   "metadata": {
    "colab": {
     "base_uri": "https://localhost:8080/"
    },
    "executionInfo": {
     "elapsed": 1921,
     "status": "ok",
     "timestamp": 1644400699969,
     "user": {
      "displayName": "Siddhi Jadhav",
      "photoUrl": "https://lh3.googleusercontent.com/a/default-user=s64",
      "userId": "08402691859170607175"
     },
     "user_tz": -330
    },
    "id": "-7XIVyoSemPa",
    "outputId": "d2ace87e-cf46-4df8-8651-3329d840755a"
   },
   "outputs": [],
   "source": [
    "#Importing the dataset\n",
    "df = pd.read_csv(\"data.csv\")"
   ]
  },
  {
   "cell_type": "code",
   "execution_count": null,
   "metadata": {
    "colab": {
     "base_uri": "https://localhost:8080/"
    },
    "executionInfo": {
     "elapsed": 6,
     "status": "ok",
     "timestamp": 1644400699969,
     "user": {
      "displayName": "Siddhi Jadhav",
      "photoUrl": "https://lh3.googleusercontent.com/a/default-user=s64",
      "userId": "08402691859170607175"
     },
     "user_tz": -330
    },
    "id": "ADRvAC6H3A07",
    "outputId": "233e402e-1931-43f8-997f-9745d63c7376"
   },
   "outputs": [
    {
     "data": {
      "text/html": [
       "<div>\n",
       "<style scoped>\n",
       "    .dataframe tbody tr th:only-of-type {\n",
       "        vertical-align: middle;\n",
       "    }\n",
       "\n",
       "    .dataframe tbody tr th {\n",
       "        vertical-align: top;\n",
       "    }\n",
       "\n",
       "    .dataframe thead th {\n",
       "        text-align: right;\n",
       "    }\n",
       "</style>\n",
       "<table border=\"1\" class=\"dataframe\">\n",
       "  <thead>\n",
       "    <tr style=\"text-align: right;\">\n",
       "      <th></th>\n",
       "      <th>Loan ID</th>\n",
       "      <th>Customer ID</th>\n",
       "      <th>Loan Status</th>\n",
       "      <th>Current Loan Amount</th>\n",
       "      <th>Term</th>\n",
       "      <th>Credit Score</th>\n",
       "      <th>Years in current job</th>\n",
       "      <th>Home Ownership</th>\n",
       "      <th>Annual Income</th>\n",
       "      <th>Purpose</th>\n",
       "      <th>Monthly Debt</th>\n",
       "      <th>Years of Credit History</th>\n",
       "      <th>Months since last delinquent</th>\n",
       "      <th>Number of Open Accounts</th>\n",
       "      <th>Number of Credit Problems</th>\n",
       "      <th>Current Credit Balance</th>\n",
       "      <th>Maximum Open Credit</th>\n",
       "      <th>Bankruptcies</th>\n",
       "      <th>Tax Liens</th>\n",
       "    </tr>\n",
       "  </thead>\n",
       "  <tbody>\n",
       "    <tr>\n",
       "      <th>0</th>\n",
       "      <td>6cf51492-02a2-423e-b93d-676f05b9ad53</td>\n",
       "      <td>7c202b37-2add-44e8-9aea-d5b119aea935</td>\n",
       "      <td>Loan Refused</td>\n",
       "      <td>12232</td>\n",
       "      <td>Short Term</td>\n",
       "      <td>7280.0</td>\n",
       "      <td>&lt; 1 year</td>\n",
       "      <td>Rent</td>\n",
       "      <td>46643.0</td>\n",
       "      <td>Debt Consolidation</td>\n",
       "      <td>777.39</td>\n",
       "      <td>18.0</td>\n",
       "      <td>10.0</td>\n",
       "      <td>12</td>\n",
       "      <td>0</td>\n",
       "      <td>6762</td>\n",
       "      <td>7946</td>\n",
       "      <td>0.0</td>\n",
       "      <td>0.0</td>\n",
       "    </tr>\n",
       "    <tr>\n",
       "      <th>1</th>\n",
       "      <td>552e7ade-4292-4354-9ff9-c48031697d72</td>\n",
       "      <td>e7217b0a-07ac-47dd-b379-577b5a35b7c6</td>\n",
       "      <td>Loan Refused</td>\n",
       "      <td>25014</td>\n",
       "      <td>Long Term</td>\n",
       "      <td>7330.0</td>\n",
       "      <td>10+ years</td>\n",
       "      <td>Home Mortgage</td>\n",
       "      <td>81099.0</td>\n",
       "      <td>Debt Consolidation</td>\n",
       "      <td>892.09</td>\n",
       "      <td>26.7</td>\n",
       "      <td>NaN</td>\n",
       "      <td>14</td>\n",
       "      <td>0</td>\n",
       "      <td>35706</td>\n",
       "      <td>77961</td>\n",
       "      <td>0.0</td>\n",
       "      <td>0.0</td>\n",
       "    </tr>\n",
       "    <tr>\n",
       "      <th>2</th>\n",
       "      <td>9b5e32b3-8d76-4801-afc8-d729d5a2e6b9</td>\n",
       "      <td>0a62fc41-16c8-40b5-92ff-9e4b763ce714</td>\n",
       "      <td>Loan Refused</td>\n",
       "      <td>16117</td>\n",
       "      <td>Short Term</td>\n",
       "      <td>7240.0</td>\n",
       "      <td>9 years</td>\n",
       "      <td>Home Mortgage</td>\n",
       "      <td>60438.0</td>\n",
       "      <td>Home Improvements</td>\n",
       "      <td>1244.02</td>\n",
       "      <td>16.7</td>\n",
       "      <td>32.0</td>\n",
       "      <td>11</td>\n",
       "      <td>1</td>\n",
       "      <td>11275</td>\n",
       "      <td>14815</td>\n",
       "      <td>1.0</td>\n",
       "      <td>0.0</td>\n",
       "    </tr>\n",
       "    <tr>\n",
       "      <th>3</th>\n",
       "      <td>5419b7c7-ac11-4be2-a8a7-b131fb6d6dbe</td>\n",
       "      <td>30f36c59-5182-4482-8bbb-5b736849ae43</td>\n",
       "      <td>Loan Refused</td>\n",
       "      <td>11716</td>\n",
       "      <td>Short Term</td>\n",
       "      <td>7400.0</td>\n",
       "      <td>3 years</td>\n",
       "      <td>Rent</td>\n",
       "      <td>34171.0</td>\n",
       "      <td>Debt Consolidation</td>\n",
       "      <td>990.94</td>\n",
       "      <td>10.0</td>\n",
       "      <td>NaN</td>\n",
       "      <td>21</td>\n",
       "      <td>0</td>\n",
       "      <td>7009</td>\n",
       "      <td>43533</td>\n",
       "      <td>0.0</td>\n",
       "      <td>0.0</td>\n",
       "    </tr>\n",
       "    <tr>\n",
       "      <th>4</th>\n",
       "      <td>1450910f-9495-4fc9-afaf-9bdf4b9821df</td>\n",
       "      <td>70c26012-bba5-42c0-8dcb-75295ada31bb</td>\n",
       "      <td>Loan Refused</td>\n",
       "      <td>9789</td>\n",
       "      <td>Long Term</td>\n",
       "      <td>6860.0</td>\n",
       "      <td>10+ years</td>\n",
       "      <td>Home Mortgage</td>\n",
       "      <td>47003.0</td>\n",
       "      <td>Home Improvements</td>\n",
       "      <td>503.71</td>\n",
       "      <td>16.7</td>\n",
       "      <td>25.0</td>\n",
       "      <td>13</td>\n",
       "      <td>1</td>\n",
       "      <td>16913</td>\n",
       "      <td>19553</td>\n",
       "      <td>1.0</td>\n",
       "      <td>0.0</td>\n",
       "    </tr>\n",
       "  </tbody>\n",
       "</table>\n",
       "</div>"
      ],
      "text/plain": [
       "                                Loan ID                           Customer ID  \\\n",
       "0  6cf51492-02a2-423e-b93d-676f05b9ad53  7c202b37-2add-44e8-9aea-d5b119aea935   \n",
       "1  552e7ade-4292-4354-9ff9-c48031697d72  e7217b0a-07ac-47dd-b379-577b5a35b7c6   \n",
       "2  9b5e32b3-8d76-4801-afc8-d729d5a2e6b9  0a62fc41-16c8-40b5-92ff-9e4b763ce714   \n",
       "3  5419b7c7-ac11-4be2-a8a7-b131fb6d6dbe  30f36c59-5182-4482-8bbb-5b736849ae43   \n",
       "4  1450910f-9495-4fc9-afaf-9bdf4b9821df  70c26012-bba5-42c0-8dcb-75295ada31bb   \n",
       "\n",
       "    Loan Status  Current Loan Amount        Term  Credit Score  \\\n",
       "0  Loan Refused                12232  Short Term        7280.0   \n",
       "1  Loan Refused                25014   Long Term        7330.0   \n",
       "2  Loan Refused                16117  Short Term        7240.0   \n",
       "3  Loan Refused                11716  Short Term        7400.0   \n",
       "4  Loan Refused                 9789   Long Term        6860.0   \n",
       "\n",
       "  Years in current job Home Ownership  Annual Income             Purpose  \\\n",
       "0             < 1 year           Rent        46643.0  Debt Consolidation   \n",
       "1            10+ years  Home Mortgage        81099.0  Debt Consolidation   \n",
       "2              9 years  Home Mortgage        60438.0   Home Improvements   \n",
       "3              3 years           Rent        34171.0  Debt Consolidation   \n",
       "4            10+ years  Home Mortgage        47003.0   Home Improvements   \n",
       "\n",
       "  Monthly Debt  Years of Credit History  Months since last delinquent  \\\n",
       "0       777.39                     18.0                          10.0   \n",
       "1       892.09                     26.7                           NaN   \n",
       "2      1244.02                     16.7                          32.0   \n",
       "3       990.94                     10.0                           NaN   \n",
       "4       503.71                     16.7                          25.0   \n",
       "\n",
       "   Number of Open Accounts  Number of Credit Problems  Current Credit Balance  \\\n",
       "0                       12                          0                    6762   \n",
       "1                       14                          0                   35706   \n",
       "2                       11                          1                   11275   \n",
       "3                       21                          0                    7009   \n",
       "4                       13                          1                   16913   \n",
       "\n",
       "  Maximum Open Credit  Bankruptcies  Tax Liens  \n",
       "0                7946           0.0        0.0  \n",
       "1               77961           0.0        0.0  \n",
       "2               14815           1.0        0.0  \n",
       "3               43533           0.0        0.0  \n",
       "4               19553           1.0        0.0  "
      ]
     },
     "execution_count": 5,
     "metadata": {},
     "output_type": "execute_result"
    }
   ],
   "source": [
    "# Taking a peek at data\n",
    "df.head()"
   ]
  },
  {
   "cell_type": "markdown",
   "metadata": {},
   "source": [
    "The goal is to remove any duplicate entries based on the \"Loan ID\" column. This ensures that each loan is represented only once in the dfset."
   ]
  },
  {
   "cell_type": "markdown",
   "metadata": {},
   "source": [
    "## Data Cleaning, Exploratory df Analysis & Data Preprocessing"
   ]
  },
  {
   "cell_type": "markdown",
   "metadata": {},
   "source": [
    "## Exploratory Data Analysis and Data preprocessing\n",
    "\n",
    "## Approach\n",
    "\n",
    "1. **Data cleaning** involves identifying and correcting errors or inconsistencies in the dataset to ensure the data is accurate and reliable.\n",
    "\n",
    "2. **EDA** is the process of analyzing the dataset to uncover patterns, trends, and relationships among variables.\n",
    "\n",
    "3. **Data preprocessing** involves transforming raw df into a format suitable for modeling. This includes encoding categorical variables using techniques like one-hot encoding or label encoding, scaling numerical features to ensure they are on a similar scale, and splitting the data into training and testing sets."
   ]
  },
  {
   "cell_type": "code",
   "execution_count": 6,
   "metadata": {},
   "outputs": [
    {
     "name": "stdout",
     "output_type": "stream",
     "text": [
      "No of rows before deleting duplicate rows: 111107\n",
      "No of rows after deleting duplicate rows: 88910\n"
     ]
    }
   ],
   "source": [
    "##Drop the duplicates with respect to LOAN ID\n",
    "print(f'No of rows before deleting duplicate rows: {len(df)}')\n",
    "df.drop_duplicates(subset=\"Loan ID\",keep='first',inplace=True)\n",
    "print(f'No of rows after deleting duplicate rows: {len(df)}')"
   ]
  },
  {
   "cell_type": "markdown",
   "metadata": {},
   "source": [
    "Around 22297 duplicate records were found based on loanID"
   ]
  },
  {
   "cell_type": "code",
   "execution_count": 7,
   "metadata": {
    "colab": {
     "base_uri": "https://localhost:8080/",
     "height": 410
    },
    "executionInfo": {
     "elapsed": 869,
     "status": "ok",
     "timestamp": 1644400700836,
     "user": {
      "displayName": "Siddhi Jadhav",
      "photoUrl": "https://lh3.googleusercontent.com/a/default-user=s64",
      "userId": "08402691859170607175"
     },
     "user_tz": -330
    },
    "id": "ISxmQNST3JHs",
    "outputId": "306e13bf-f9f7-47b1-ab89-d13da37f028c"
   },
   "outputs": [
    {
     "data": {
      "image/png": "[encoded data removed]",
      "text/plain": [
       "<Figure size 1000x500 with 1 Axes>"
      ]
     },
     "metadata": {},
     "output_type": "display_data"
    }
   ],
   "source": [
    "# Plotting the loan status \n",
    "\n",
    "status=df[\"Loan Status\"].value_counts() \n",
    "plt.figure(figsize=(10,5))\n",
    "sns.barplot(x=status.index, y=status.values, alpha=0.8)\n",
    "plt.title('Loan Status distribution')\n",
    "plt.ylabel('Number of Occurrences', fontsize=12)\n",
    "plt.xlabel('Loan Status', fontsize=12)\n",
    "plt.show() "
   ]
  },
  {
   "cell_type": "markdown",
   "metadata": {},
   "source": [
    "1. The chart clearly shows a significant imbalance between the two classes, with a much larger number of loans being approved (“Loan Given”) compared to those refused (“Loan Refused”).\n",
    "2. This imbalance could pose challenges in building predictive models, as the classifier might be biased toward the majority class."
   ]
  },
  {
   "cell_type": "code",
   "execution_count": 8,
   "metadata": {},
   "outputs": [
    {
     "name": "stdout",
     "output_type": "stream",
     "text": [
      "count      88910.00\n",
      "mean    14338784.86\n",
      "std     35029958.37\n",
      "min          491.00\n",
      "25%         8283.00\n",
      "50%        14355.00\n",
      "75%        24485.00\n",
      "max     99999999.00\n",
      "Name: Current Loan Amount, dtype: float64\n"
     ]
    }
   ],
   "source": [
    "# Plotting the loan status \n",
    "\n",
    "pd.options.display.float_format = '{:.2f}'.format\n",
    "\n",
    "# Display the summary statistics\n",
    "status = df[\"Current Loan Amount\"].describe()\n",
    "print(status)\n",
    "\n",
    "# Reset to default formatting if needed later\n",
    "pd.reset_option('display.float_format')"
   ]
  },
  {
   "cell_type": "markdown",
   "metadata": {},
   "source": [
    "There are extreme outliers, we need to cap values"
   ]
  },
  {
   "cell_type": "code",
   "execution_count": 9,
   "metadata": {
    "colab": {
     "base_uri": "https://localhost:8080/"
    },
    "executionInfo": {
     "elapsed": 8,
     "status": "ok",
     "timestamp": 1644400701432,
     "user": {
      "displayName": "Siddhi Jadhav",
      "photoUrl": "https://lh3.googleusercontent.com/a/default-user=s64",
      "userId": "08402691859170607175"
     },
     "user_tz": -330
    },
    "id": "DgOWaS9A3SHA",
    "outputId": "31c20469-dfa2-4611-f48b-c98caf3f7048"
   },
   "outputs": [
    {
     "name": "stdout",
     "output_type": "stream",
     "text": [
      "IQR is: 16202.0\n",
      "Outliers are: \n",
      "5044     99999999\n",
      "5045     99999999\n",
      "5046     99999999\n",
      "5047     99999999\n",
      "5048     99999999\n",
      "           ...   \n",
      "17777    99999999\n",
      "17778    99999999\n",
      "17779    99999999\n",
      "17780    99999999\n",
      "17781    99999999\n",
      "Name: Current Loan Amount, Length: 12738, dtype: int64\n"
     ]
    },
    {
     "data": {
      "text/plain": [
       "<Axes: ylabel='Frequency'>"
      ]
     },
     "execution_count": 9,
     "metadata": {},
     "output_type": "execute_result"
    },
    {
     "data": {
      "image/png": "[encoded data removed]",
      "text/plain": [
       "<Figure size 640x480 with 1 Axes>"
      ]
     },
     "metadata": {},
     "output_type": "display_data"
    }
   ],
   "source": [
    "import numpy as np\n",
    "import pandas as pd\n",
    "\n",
    "# Calculating the first quartile (Q1) and third quartile (Q3) for the \"Current Loan Amount\" column\n",
    "Q1 = df[\"Current Loan Amount\"].quantile(0.25)\n",
    "Q3 = df[\"Current Loan Amount\"].quantile(0.75)\n",
    "\n",
    "# Calculating the Interquartile Range (IQR)\n",
    "IQR = Q3 - Q1\n",
    "print(f'IQR is: {IQR}')\n",
    "\n",
    "# Identifying outliers in the \"Current Loan Amount\" column using the IQR method\n",
    "outliers = df[\"Current Loan Amount\"][\n",
    "    (df[\"Current Loan Amount\"] < (Q1 - 1.5 * IQR)) |\n",
    "    (df[\"Current Loan Amount\"] > (Q3 + 1.5 * IQR))\n",
    "]\n",
    "print(f'Outliers are: \\n{outliers}')\n",
    "\n",
    "# Converting the \"Current Loan Amount\" column to a numpy array for easier manipulation\n",
    "temp = np.array(df[\"Current Loan Amount\"].values.tolist())\n",
    "\n",
    "# Replacing values greater than 9999998 with 'NaN' in the \"Current Loan Amount_temp\" column\n",
    "df[\"Current Loan Amount_temp\"] = np.where(temp > 9999998, 'NaN', temp).tolist()\n",
    "\n",
    "# Filtering out 'NaN' values and converting the remaining values to integers\n",
    "temp = df[\"Current Loan Amount_temp\"][df[\"Current Loan Amount_temp\"] != 'NaN'].astype(str).astype(int)\n",
    "\n",
    "# Plotting a histogram of the \"Current Loan Amount_temp\" column\n",
    "temp.plot.hist(grid=True, bins=20, rwidth=0.9)"
   ]
  },
  {
   "cell_type": "markdown",
   "metadata": {},
   "source": [
    "1. The df appears to be approximately unimodal with a clear peak around the range of 10,000–15,000.\n",
    "2. The distribution is right-skewed, with a gradual tapering off as values increase beyond 20,000."
   ]
  },
  {
   "cell_type": "code",
   "execution_count": 10,
   "metadata": {
    "id": "KTgdmyYf3h-P"
   },
   "outputs": [],
   "source": [
    "# Replacing the df with the 50th percentile (median) or mean\n",
    "temp = np.array(df[\"Current Loan Amount\"].values.tolist())\n",
    "\n",
    "# I am replacing values greater than 9999998 with 12038 (which could be the median or mean)\n",
    "df[\"Current Loan Amount\"] = np.where(temp > 9999998, 12038, temp).tolist()\n",
    "\n",
    "# Dropping the temporary column \"Current Loan Amount_temp\"\n",
    "df = df.drop(['Current Loan Amount_temp'], axis=1)"
   ]
  },
  {
   "cell_type": "code",
   "execution_count": 11,
   "metadata": {
    "colab": {
     "base_uri": "https://localhost:8080/",
     "height": 410
    },
    "executionInfo": {
     "elapsed": 877,
     "status": "ok",
     "timestamp": 1644400703344,
     "user": {
      "displayName": "Siddhi Jadhav",
      "photoUrl": "https://lh3.googleusercontent.com/a/default-user=s64",
      "userId": "08402691859170607175"
     },
     "user_tz": -330
    },
    "id": "QknzhQ1j3jl5",
    "outputId": "a7fbe35f-cf0b-47cd-b5d0-07987bfdfc5e"
   },
   "outputs": [
    {
     "data": {
      "image/png": "[encoded data removed]",
      "text/plain": [
       "<Figure size 1000x500 with 1 Axes>"
      ]
     },
     "metadata": {},
     "output_type": "display_data"
    }
   ],
   "source": [
    "# Analyzing the distribution of the \"Term\" column\n",
    "status = df[\"Term\"].value_counts()\n",
    "\n",
    "# Creating a bar plot to visualize the distribution of loan terms\n",
    "plt.figure(figsize=(10, 5))  \n",
    "sns.barplot(x=status.index, y=status.values, alpha=0.8)  \n",
    "plt.title('Loan Term distribution')  \n",
    "plt.ylabel('Number of Occurrences', fontsize=12) \n",
    "plt.xlabel('Loan term', fontsize=12)  \n",
    "plt.show()  "
   ]
  },
  {
   "cell_type": "markdown",
   "metadata": {},
   "source": [
    "1. The predominance of loans in one category suggests a preference or business trend favoring shorter loan terms.\n",
    "2. Further exploration may reveal why longer loan terms are less common—this could be due to customer preferences, credit risk, or company policies.\n"
   ]
  },
  {
   "cell_type": "code",
   "execution_count": 12,
   "metadata": {},
   "outputs": [
    {
     "name": "stdout",
     "output_type": "stream",
     "text": [
      "null values are: 21338\n",
      "count    67572.000000\n",
      "mean      1199.199580\n",
      "std       1680.813805\n",
      "min        585.000000\n",
      "25%        714.000000\n",
      "50%        733.000000\n",
      "75%        744.000000\n",
      "max       7510.000000\n",
      "Name: Credit Score, dtype: float64\n"
     ]
    }
   ],
   "source": [
    "## Credit Score\n",
    "print(f'null values are: {df[\"Credit Score\"].isnull().sum()}')\n",
    "print(df[\"Credit Score\"].describe())"
   ]
  },
  {
   "cell_type": "markdown",
   "metadata": {},
   "source": [
    "1. The mean credit score is 1075.79, which also indicates skewed df due to the presence of outliers.\n",
    "2. The median (50th percentile) is 724, which is within the valid range and reflects the central tendency of the majority of the df.\n",
    "3. The interquartile range (IQR) is relatively narrow (705-741), showing that most valid scores fall within a reasonable range."
   ]
  },
  {
   "cell_type": "code",
   "execution_count": 13,
   "metadata": {
    "id": "_GR08d3O3uJa"
   },
   "outputs": [],
   "source": [
    "# Now let's do treatment of the df at hand.\n",
    "# dividing the values greater than 800 by 10 in the \"Credit Score\" column\n",
    "\n",
    "df[\"Credit Score\"] = np.where(df[\"Credit Score\"] > 800, df[\"Credit Score\"] / 10, df[\"Credit Score\"])"
   ]
  },
  {
   "cell_type": "code",
   "execution_count": 14,
   "metadata": {
    "colab": {
     "base_uri": "https://localhost:8080/",
     "height": 355
    },
    "executionInfo": {
     "elapsed": 2015,
     "status": "ok",
     "timestamp": 1644400705881,
     "user": {
      "displayName": "Siddhi Jadhav",
      "photoUrl": "https://lh3.googleusercontent.com/a/default-user=s64",
      "userId": "08402691859170607175"
     },
     "user_tz": -330
    },
    "id": "NXGFnB8A31ML",
    "outputId": "dedfeb54-0308-41de-f57a-1ce4f22e250d"
   },
   "outputs": [
    {
     "data": {
      "text/plain": [
       "<Axes: xlabel='Credit Score_1', ylabel='Count'>"
      ]
     },
     "execution_count": 14,
     "metadata": {},
     "output_type": "execute_result"
    },
    {
     "data": {
      "image/png": "[encoded data removed]",
      "text/plain": [
       "<Figure size 640x480 with 1 Axes>"
      ]
     },
     "metadata": {},
     "output_type": "display_data"
    }
   ],
   "source": [
    "#Now lets replace the missing values with median \n",
    "\n",
    "median_score=statistics.median(df[\"Credit Score\"])\n",
    "df[\"Credit Score_1\"]=df[\"Credit Score\"]\n",
    "df[\"Credit Score_1\"].fillna(median_score, inplace = True) \n",
    "sns.histplot(df[\"Credit Score_1\"])"
   ]
  },
  {
   "cell_type": "markdown",
   "metadata": {},
   "source": [
    "As we can see this df is skewed so when we replace it with median it is giving us problems. Replacing with 75th percentile and taking log we get a better distribution"
   ]
  },
  {
   "cell_type": "code",
   "execution_count": 15,
   "metadata": {},
   "outputs": [],
   "source": [
    "df[\"Credit Score\"].fillna(741, inplace = True) "
   ]
  },
  {
   "cell_type": "code",
   "execution_count": 16,
   "metadata": {
    "colab": {
     "base_uri": "https://localhost:8080/"
    },
    "executionInfo": {
     "elapsed": 14,
     "status": "ok",
     "timestamp": 1644400708994,
     "user": {
      "displayName": "Siddhi Jadhav",
      "photoUrl": "https://lh3.googleusercontent.com/a/default-user=s64",
      "userId": "08402691859170607175"
     },
     "user_tz": -330
    },
    "id": "D11ymr5s4A-D",
    "outputId": "cd410bf0-be88-467e-d98d-cf43a93287c2"
   },
   "outputs": [
    {
     "name": "stdout",
     "output_type": "stream",
     "text": [
      "['Rent' 'Home Mortgage' 'Own Home' 'HaveMortgage']\n",
      "['Rent' 'Home Mortgage' 'Own Home']\n"
     ]
    }
   ],
   "source": [
    "print(df['Home Ownership'].unique())\n",
    "\n",
    "df['Home Ownership']=df['Home Ownership'].str.replace('HaveMortgage', 'Home Mortgage', regex=True)\n",
    "print(df['Home Ownership'].unique())"
   ]
  },
  {
   "cell_type": "markdown",
   "metadata": {},
   "source": [
    "As we can see it has Home Mortgage and haveMortgage as 2 different classes. we have fixed that\n"
   ]
  },
  {
   "cell_type": "code",
   "execution_count": 17,
   "metadata": {
    "colab": {
     "base_uri": "https://localhost:8080/"
    },
    "executionInfo": {
     "elapsed": 8,
     "status": "ok",
     "timestamp": 1644400708995,
     "user": {
      "displayName": "Siddhi Jadhav",
      "photoUrl": "https://lh3.googleusercontent.com/a/default-user=s64",
      "userId": "08402691859170607175"
     },
     "user_tz": -330
    },
    "id": "7G_DhsWC4ICh",
    "outputId": "e4a4be96-fc9d-4f3c-a504-752848306fae"
   },
   "outputs": [
    {
     "name": "stdout",
     "output_type": "stream",
     "text": [
      "count    6.757200e+04\n",
      "mean     7.234575e+04\n",
      "std      5.836101e+04\n",
      "min      4.033000e+03\n",
      "25%      4.458600e+04\n",
      "50%      6.149400e+04\n",
      "75%      8.675025e+04\n",
      "max      8.713547e+06\n",
      "Name: Annual Income, dtype: float64\n"
     ]
    },
    {
     "data": {
      "text/plain": [
       "0.200     40764.00\n",
       "0.750     86750.25\n",
       "0.900    119916.00\n",
       "0.950    147645.00\n",
       "0.990    239286.96\n",
       "0.999    491575.77\n",
       "Name: Annual Income, dtype: float64"
      ]
     },
     "execution_count": 17,
     "metadata": {},
     "output_type": "execute_result"
    }
   ],
   "source": [
    "## Annual Income\n",
    "print(df['Annual Income'].describe())\n",
    "df['Annual Income'].quantile([.2,0.75,0.90,.95,0.99,.999])"
   ]
  },
  {
   "cell_type": "markdown",
   "metadata": {},
   "source": [
    "Observing that these values lie in the 99th percentile of the df, replacing them\n",
    "Capping any values greater than the 99th percentile to the 99th percentile value"
   ]
  },
  {
   "cell_type": "code",
   "execution_count": 18,
   "metadata": {
    "colab": {
     "base_uri": "https://localhost:8080/"
    },
    "executionInfo": {
     "elapsed": 15,
     "status": "ok",
     "timestamp": 1644400709846,
     "user": {
      "displayName": "Siddhi Jadhav",
      "photoUrl": "https://lh3.googleusercontent.com/a/default-user=s64",
      "userId": "08402691859170607175"
     },
     "user_tz": -330
    },
    "id": "OeXP1lAj4Ngp",
    "outputId": "7699c3dd-e5ae-4485-fb0b-0de4a92929e1"
   },
   "outputs": [],
   "source": [
    "df.loc[df['Annual Income'] > 239287, 'Annual Income'] = 239287"
   ]
  },
  {
   "cell_type": "code",
   "execution_count": 19,
   "metadata": {
    "colab": {
     "base_uri": "https://localhost:8080/"
    },
    "executionInfo": {
     "elapsed": 13,
     "status": "ok",
     "timestamp": 1644400709846,
     "user": {
      "displayName": "Siddhi Jadhav",
      "photoUrl": "https://lh3.googleusercontent.com/a/default-user=s64",
      "userId": "08402691859170607175"
     },
     "user_tz": -330
    },
    "id": "KmJY2oBj4Y84",
    "outputId": "86915f96-1b96-4328-8e55-639dd81d3b63"
   },
   "outputs": [],
   "source": [
    "## Loan Purpose \n",
    "df['Purpose'].value_counts()\n",
    "\n",
    "#Lets combine the \"Other\" values which represent the same\n",
    "\n",
    "df['Purpose']=df['Purpose'].str.replace('Other', 'other', regex=True)"
   ]
  },
  {
   "cell_type": "code",
   "execution_count": 20,
   "metadata": {
    "colab": {
     "base_uri": "https://localhost:8080/"
    },
    "executionInfo": {
     "elapsed": 11,
     "status": "ok",
     "timestamp": 1644400709846,
     "user": {
      "displayName": "Siddhi Jadhav",
      "photoUrl": "https://lh3.googleusercontent.com/a/default-user=s64",
      "userId": "08402691859170607175"
     },
     "user_tz": -330
    },
    "id": "w212J-Vs4eQ_",
    "outputId": "d20cc0a4-cf61-4688-8444-bd1c5640beb5"
   },
   "outputs": [
    {
     "data": {
      "text/plain": [
       "<Axes: xlabel='Monthly Debt', ylabel='Density'>"
      ]
     },
     "execution_count": 20,
     "metadata": {},
     "output_type": "execute_result"
    },
    {
     "data": {
      "image/png": "[encoded data removed]",
      "text/plain": [
       "<Figure size 640x480 with 1 Axes>"
      ]
     },
     "metadata": {},
     "output_type": "display_data"
    }
   ],
   "source": [
    "## Monthly debt(has a dollar sign)\n",
    "\n",
    "df['Monthly Debt'].describe()\n",
    "df['Monthly Debt']=df['Monthly Debt'].str.replace('$', '')\n",
    "df['Monthly Debt']=pd.to_numeric(df['Monthly Debt'] )\n",
    "\n",
    "sns.distplot(df[\"Monthly Debt\"])\n"
   ]
  },
  {
   "cell_type": "code",
   "execution_count": 21,
   "metadata": {
    "colab": {
     "base_uri": "https://localhost:8080/"
    },
    "executionInfo": {
     "elapsed": 39,
     "status": "ok",
     "timestamp": 1644400710415,
     "user": {
      "displayName": "Siddhi Jadhav",
      "photoUrl": "https://lh3.googleusercontent.com/a/default-user=s64",
      "userId": "08402691859170607175"
     },
     "user_tz": -330
    },
    "id": "cMxKo5zX5Mnr",
    "outputId": "042d156d-f0ee-42b7-cd7e-692f1c7198d3"
   },
   "outputs": [
    {
     "data": {
      "text/plain": [
       "count    65536.000000\n",
       "mean       962.406632\n",
       "std        632.799593\n",
       "min          0.000000\n",
       "25%        532.250000\n",
       "50%        843.770000\n",
       "75%       1251.342500\n",
       "max      12055.680000\n",
       "Name: Monthly Debt, dtype: float64"
      ]
     },
     "execution_count": 21,
     "metadata": {},
     "output_type": "execute_result"
    }
   ],
   "source": [
    "# Monthly Debt\n",
    "\n",
    "df['Monthly Debt'].describe()\n",
    "#The max value is too high here"
   ]
  },
  {
   "cell_type": "code",
   "execution_count": 22,
   "metadata": {
    "colab": {
     "base_uri": "https://localhost:8080/"
    },
    "executionInfo": {
     "elapsed": 33,
     "status": "ok",
     "timestamp": 1644400710417,
     "user": {
      "displayName": "Siddhi Jadhav",
      "photoUrl": "https://lh3.googleusercontent.com/a/default-user=s64",
      "userId": "08402691859170607175"
     },
     "user_tz": -330
    },
    "id": "H2o1-coN5QAM",
    "outputId": "b035ef23-fa04-460b-8ba0-88588d14da5e"
   },
   "outputs": [
    {
     "data": {
      "text/plain": [
       "0.200     464.21000\n",
       "0.750    1251.34250\n",
       "0.900    1740.35000\n",
       "0.950    2112.21000\n",
       "0.990    3084.08600\n",
       "0.999    4927.21625\n",
       "Name: Monthly Debt, dtype: float64"
      ]
     },
     "execution_count": 22,
     "metadata": {},
     "output_type": "execute_result"
    }
   ],
   "source": [
    "# Lets look at Quantiles\n",
    "df['Monthly Debt'].quantile([.2,0.75,0.90,.95,0.99,.999])"
   ]
  },
  {
   "cell_type": "code",
   "execution_count": 23,
   "metadata": {
    "colab": {
     "base_uri": "https://localhost:8080/"
    },
    "executionInfo": {
     "elapsed": 29,
     "status": "ok",
     "timestamp": 1644400710418,
     "user": {
      "displayName": "Siddhi Jadhav",
      "photoUrl": "https://lh3.googleusercontent.com/a/default-user=s64",
      "userId": "08402691859170607175"
     },
     "user_tz": -330
    },
    "id": "kuo8L4XO5TFE",
    "outputId": "3d2710b0-b739-45c0-c60d-15a78c8701f7"
   },
   "outputs": [],
   "source": [
    "#Need to replace this\n",
    "df.loc[df['Monthly Debt'] > 4926, 'Monthly Debt'] = 4926"
   ]
  },
  {
   "cell_type": "code",
   "execution_count": 24,
   "metadata": {
    "colab": {
     "base_uri": "https://localhost:8080/",
     "height": 354
    },
    "executionInfo": {
     "elapsed": 713,
     "status": "ok",
     "timestamp": 1644400711793,
     "user": {
      "displayName": "Siddhi Jadhav",
      "photoUrl": "https://lh3.googleusercontent.com/a/default-user=s64",
      "userId": "08402691859170607175"
     },
     "user_tz": -330
    },
    "id": "F-sPV37_5dfh",
    "outputId": "3a29b26a-d3b3-4f2d-b03b-3825eb3e0746"
   },
   "outputs": [
    {
     "data": {
      "text/plain": [
       "<Axes: xlabel='Years of Credit History', ylabel='Density'>"
      ]
     },
     "execution_count": 24,
     "metadata": {},
     "output_type": "execute_result"
    },
    {
     "data": {
      "image/png": "[encoded data removed]",
      "text/plain": [
       "<Figure size 640x480 with 1 Axes>"
      ]
     },
     "metadata": {},
     "output_type": "display_data"
    }
   ],
   "source": [
    "## Years of credit history \n",
    "df['Years of Credit History'].value_counts()\n",
    "sns.distplot(df[\"Years of Credit History\"])"
   ]
  },
  {
   "cell_type": "markdown",
   "metadata": {},
   "source": [
    "The distribution appears to be unimodal and slightly right-skewed. Most of the values are concentrated around 10–20 years of credit history, indicating that the majority of individuals fall within this range."
   ]
  },
  {
   "cell_type": "code",
   "execution_count": 25,
   "metadata": {
    "colab": {
     "base_uri": "https://localhost:8080/"
    },
    "executionInfo": {
     "elapsed": 19,
     "status": "ok",
     "timestamp": 1644400711793,
     "user": {
      "displayName": "Siddhi Jadhav",
      "photoUrl": "https://lh3.googleusercontent.com/a/default-user=s64",
      "userId": "08402691859170607175"
     },
     "user_tz": -330
    },
    "id": "QXCgrTLE5hnY",
    "outputId": "10f134eb-8a70-4b12-bf59-cfd822d2b139"
   },
   "outputs": [
    {
     "data": {
      "text/plain": [
       "count    40404.000000\n",
       "mean        35.080289\n",
       "std         22.008583\n",
       "min          0.000000\n",
       "25%         16.000000\n",
       "50%         32.000000\n",
       "75%         51.000000\n",
       "max        176.000000\n",
       "Name: Months since last delinquent, dtype: float64"
      ]
     },
     "execution_count": 25,
     "metadata": {},
     "output_type": "execute_result"
    }
   ],
   "source": [
    "# Months since last delinquent\n",
    "df['Months since last delinquent'].describe()"
   ]
  },
  {
   "cell_type": "code",
   "execution_count": 26,
   "metadata": {
    "colab": {
     "base_uri": "https://localhost:8080/"
    },
    "executionInfo": {
     "elapsed": 12,
     "status": "ok",
     "timestamp": 1644400711794,
     "user": {
      "displayName": "Siddhi Jadhav",
      "photoUrl": "https://lh3.googleusercontent.com/a/default-user=s64",
      "userId": "08402691859170607175"
     },
     "user_tz": -330
    },
    "id": "UrL8e8gM5vv9",
    "outputId": "e4579cda-9f0e-41cf-a61b-7d9bacc70fce"
   },
   "outputs": [
    {
     "data": {
      "text/plain": [
       "count    88910.000000\n",
       "mean        11.110348\n",
       "std          4.978461\n",
       "min          0.000000\n",
       "25%          8.000000\n",
       "50%         10.000000\n",
       "75%         14.000000\n",
       "max         76.000000\n",
       "Name: Number of Open Accounts, dtype: float64"
      ]
     },
     "execution_count": 26,
     "metadata": {},
     "output_type": "execute_result"
    }
   ],
   "source": [
    "## Number of open accounts \n",
    "\n",
    "df['Number of Open Accounts'].describe()\n",
    "#The max number seems odd. Lets investigate"
   ]
  },
  {
   "cell_type": "code",
   "execution_count": 27,
   "metadata": {
    "colab": {
     "base_uri": "https://localhost:8080/",
     "height": 354
    },
    "executionInfo": {
     "elapsed": 1167,
     "status": "ok",
     "timestamp": 1644400712955,
     "user": {
      "displayName": "Siddhi Jadhav",
      "photoUrl": "https://lh3.googleusercontent.com/a/default-user=s64",
      "userId": "08402691859170607175"
     },
     "user_tz": -330
    },
    "id": "gkeztB-r5y34",
    "outputId": "284ff36f-7dec-4a49-c1a0-fbdbd3e1f135"
   },
   "outputs": [
    {
     "data": {
      "text/plain": [
       "<Axes: xlabel='Number of Open Accounts', ylabel='Density'>"
      ]
     },
     "execution_count": 27,
     "metadata": {},
     "output_type": "execute_result"
    },
    {
     "data": {
      "image/png": "[encoded data removed]",
      "text/plain": [
       "<Figure size 640x480 with 1 Axes>"
      ]
     },
     "metadata": {},
     "output_type": "display_data"
    }
   ],
   "source": [
    "sns.distplot(df['Number of Open Accounts'])\n",
    "#Yes there are outliers in this columns. Let dig deeper"
   ]
  },
  {
   "cell_type": "code",
   "execution_count": 28,
   "metadata": {
    "colab": {
     "base_uri": "https://localhost:8080/"
    },
    "executionInfo": {
     "elapsed": 8,
     "status": "ok",
     "timestamp": 1644400712956,
     "user": {
      "displayName": "Siddhi Jadhav",
      "photoUrl": "https://lh3.googleusercontent.com/a/default-user=s64",
      "userId": "08402691859170607175"
     },
     "user_tz": -330
    },
    "id": "4zc6CnDF51X5",
    "outputId": "158bb4ba-88c5-4e86-d47a-abcc673f3c6e"
   },
   "outputs": [
    {
     "data": {
      "text/plain": [
       "0.750    14.0\n",
       "0.999    36.0\n",
       "1.000    76.0\n",
       "Name: Number of Open Accounts, dtype: float64"
      ]
     },
     "execution_count": 28,
     "metadata": {},
     "output_type": "execute_result"
    }
   ],
   "source": [
    "df['Number of Open Accounts'].quantile([0.75,0.999,1])\n",
    "#Ok so replacing anything greater than 99th percentile with 99th percentile values"
   ]
  },
  {
   "cell_type": "code",
   "execution_count": 29,
   "metadata": {
    "colab": {
     "base_uri": "https://localhost:8080/",
     "height": 354
    },
    "executionInfo": {
     "elapsed": 787,
     "status": "ok",
     "timestamp": 1644400713738,
     "user": {
      "displayName": "Siddhi Jadhav",
      "photoUrl": "https://lh3.googleusercontent.com/a/default-user=s64",
      "userId": "08402691859170607175"
     },
     "user_tz": -330
    },
    "id": "s9TeoHd253x-",
    "outputId": "e61be011-f84c-4e1b-92c9-104c2d8239da"
   },
   "outputs": [
    {
     "data": {
      "text/plain": [
       "<Axes: xlabel='Number of Open Accounts', ylabel='Density'>"
      ]
     },
     "execution_count": 29,
     "metadata": {},
     "output_type": "execute_result"
    },
    {
     "data": {
      "image/png": "[encoded data removed]",
      "text/plain": [
       "<Figure size 640x480 with 1 Axes>"
      ]
     },
     "metadata": {},
     "output_type": "display_data"
    }
   ],
   "source": [
    "df.loc[df['Number of Open Accounts'] > 36, 'Number of Open Accounts'] = 36\n",
    "sns.distplot(df['Number of Open Accounts'])\n"
   ]
  },
  {
   "cell_type": "code",
   "execution_count": 30,
   "metadata": {
    "colab": {
     "base_uri": "https://localhost:8080/",
     "height": 365
    },
    "executionInfo": {
     "elapsed": 940,
     "status": "ok",
     "timestamp": 1644400715568,
     "user": {
      "displayName": "Siddhi Jadhav",
      "photoUrl": "https://lh3.googleusercontent.com/a/default-user=s64",
      "userId": "08402691859170607175"
     },
     "user_tz": -330
    },
    "id": "aug_2Xh76Grm",
    "outputId": "31ac476c-7f16-4466-b263-688899a5a81a"
   },
   "outputs": [
    {
     "data": {
      "text/plain": [
       "<Axes: xlabel='Current Credit Balance', ylabel='Density'>"
      ]
     },
     "execution_count": 30,
     "metadata": {},
     "output_type": "execute_result"
    },
    {
     "data": {
      "image/png": "[encoded data removed]",
      "text/plain": [
       "<Figure size 640x480 with 1 Axes>"
      ]
     },
     "metadata": {},
     "output_type": "display_data"
    }
   ],
   "source": [
    "# Current Credit Balance\n",
    "\n",
    "df['Current Credit Balance'].describe()\n",
    "sns.distplot(df['Current Credit Balance'])\n",
    "#It seems there are outliers in this df. "
   ]
  },
  {
   "cell_type": "code",
   "execution_count": 31,
   "metadata": {
    "colab": {
     "base_uri": "https://localhost:8080/"
    },
    "executionInfo": {
     "elapsed": 11,
     "status": "ok",
     "timestamp": 1644400715569,
     "user": {
      "displayName": "Siddhi Jadhav",
      "photoUrl": "https://lh3.googleusercontent.com/a/default-user=s64",
      "userId": "08402691859170607175"
     },
     "user_tz": -330
    },
    "id": "X2CTOTS86H7S",
    "outputId": "691e2a5d-41d8-4f82-cb6a-8aa1e6492c5e"
   },
   "outputs": [
    {
     "data": {
      "text/plain": [
       "0.750      19301.000\n",
       "0.950      39933.300\n",
       "0.999     227670.033\n",
       "1.000    1730472.000\n",
       "Name: Current Credit Balance, dtype: float64"
      ]
     },
     "execution_count": 31,
     "metadata": {},
     "output_type": "execute_result"
    }
   ],
   "source": [
    "df['Current Credit Balance'].quantile([0.75,0.95,0.999,1])"
   ]
  },
  {
   "cell_type": "code",
   "execution_count": 32,
   "metadata": {
    "colab": {
     "base_uri": "https://localhost:8080/"
    },
    "executionInfo": {
     "elapsed": 8,
     "status": "ok",
     "timestamp": 1644400715569,
     "user": {
      "displayName": "Siddhi Jadhav",
      "photoUrl": "https://lh3.googleusercontent.com/a/default-user=s64",
      "userId": "08402691859170607175"
     },
     "user_tz": -330
    },
    "id": "PIZ14d9I6Kjw",
    "outputId": "579ef76b-9702-48b0-8f9f-dcc07fe5ef27"
   },
   "outputs": [
    {
     "data": {
      "text/plain": [
       "0.95      39933.30\n",
       "0.96      43501.20\n",
       "0.97      48507.73\n",
       "0.98      57938.12\n",
       "0.99      81007.19\n",
       "1.00    1730472.00\n",
       "Name: Current Credit Balance, dtype: float64"
      ]
     },
     "execution_count": 32,
     "metadata": {},
     "output_type": "execute_result"
    }
   ],
   "source": [
    "# Further Investigation\n",
    "\n",
    "df['Current Credit Balance'].quantile([0.95,0.96,0.97,0.98,0.99,1])"
   ]
  },
  {
   "cell_type": "code",
   "execution_count": 33,
   "metadata": {
    "colab": {
     "base_uri": "https://localhost:8080/"
    },
    "executionInfo": {
     "elapsed": 6,
     "status": "ok",
     "timestamp": 1644400715569,
     "user": {
      "displayName": "Siddhi Jadhav",
      "photoUrl": "https://lh3.googleusercontent.com/a/default-user=s64",
      "userId": "08402691859170607175"
     },
     "user_tz": -330
    },
    "id": "3V665O4R6Mod",
    "outputId": "5904c564-6820-4510-d825-d7a2a09978d9"
   },
   "outputs": [
    {
     "data": {
      "text/plain": [
       "0.55      12295.00\n",
       "0.76      19805.84\n",
       "0.87      27525.66\n",
       "0.95      39933.30\n",
       "0.98      57938.12\n",
       "0.99      81007.19\n",
       "1.00    1730472.00\n",
       "Name: Current Credit Balance, dtype: float64"
      ]
     },
     "execution_count": 33,
     "metadata": {},
     "output_type": "execute_result"
    }
   ],
   "source": [
    "#So lets replace it with 95th percentile\n",
    "\n",
    "df['Current Credit Balance'].quantile([0.55,0.76,0.87,0.95,0.98,0.99,1])"
   ]
  },
  {
   "cell_type": "code",
   "execution_count": 34,
   "metadata": {
    "colab": {
     "base_uri": "https://localhost:8080/",
     "height": 354
    },
    "executionInfo": {
     "elapsed": 725,
     "status": "ok",
     "timestamp": 1644400716290,
     "user": {
      "displayName": "Siddhi Jadhav",
      "photoUrl": "https://lh3.googleusercontent.com/a/default-user=s64",
      "userId": "08402691859170607175"
     },
     "user_tz": -330
    },
    "id": "heG831W96Ovi",
    "outputId": "f9b699e0-4cea-4411-f787-bf0458ba1dd3"
   },
   "outputs": [
    {
     "data": {
      "text/plain": [
       "<Axes: xlabel='Current Credit Balance', ylabel='Density'>"
      ]
     },
     "execution_count": 34,
     "metadata": {},
     "output_type": "execute_result"
    },
    {
     "data": {
      "image/png": "[encoded data removed]",
      "text/plain": [
       "<Figure size 640x480 with 1 Axes>"
      ]
     },
     "metadata": {},
     "output_type": "display_data"
    }
   ],
   "source": [
    "df.loc[df['Current Credit Balance'] > 81007, 'Current Credit Balance'] = 81007\n",
    "sns.distplot(df['Current Credit Balance']**(1/2))"
   ]
  },
  {
   "cell_type": "code",
   "execution_count": 35,
   "metadata": {
    "id": "cxDA0Kz46Q1s"
   },
   "outputs": [],
   "source": [
    "df['Current Credit Balance']=df['Current Credit Balance']**(1/2)"
   ]
  },
  {
   "cell_type": "code",
   "execution_count": 36,
   "metadata": {
    "colab": {
     "base_uri": "https://localhost:8080/"
    },
    "executionInfo": {
     "elapsed": 10,
     "status": "ok",
     "timestamp": 1644400716291,
     "user": {
      "displayName": "Siddhi Jadhav",
      "photoUrl": "https://lh3.googleusercontent.com/a/default-user=s64",
      "userId": "08402691859170607175"
     },
     "user_tz": -330
    },
    "id": "LmRwOBcQ6UgS",
    "outputId": "12cd22bd-2ab4-429d-f635-ba4d2ddb51c7"
   },
   "outputs": [
    {
     "name": "stdout",
     "output_type": "stream",
     "text": [
      "count     88910\n",
      "unique    58216\n",
      "top           0\n",
      "freq        450\n",
      "Name: Maximum Open Credit, dtype: object\n"
     ]
    },
    {
     "data": {
      "text/plain": [
       "Maximum Open Credit\n",
       "0         450\n",
       "0         160\n",
       "15847       9\n",
       "17464       9\n",
       "6827        8\n",
       "         ... \n",
       "28296       1\n",
       "10199       1\n",
       "132602      1\n",
       "10395       1\n",
       "21124       1\n",
       "Name: count, Length: 58216, dtype: int64"
      ]
     },
     "execution_count": 36,
     "metadata": {},
     "output_type": "execute_result"
    }
   ],
   "source": [
    "# Max open credit\n",
    "print(df['Maximum Open Credit'].describe())\n",
    "df['Maximum Open Credit'].value_counts()"
   ]
  },
  {
   "cell_type": "code",
   "execution_count": 37,
   "metadata": {
    "id": "qIuv-oKR6Yu7"
   },
   "outputs": [],
   "source": [
    "#sns.distplot(df['Maximum Open Credit'])\n",
    "#So there are some str characters present in the df. Lets find them\n",
    "#could not convert string to float: '#VALUE!'"
   ]
  },
  {
   "cell_type": "code",
   "execution_count": 38,
   "metadata": {
    "id": "mGP6RWlq6Z8m"
   },
   "outputs": [],
   "source": [
    "#pd.to_numeric(df['Maximum Open Credit'])\n",
    "#Unable to parse string \"#VALUE!\" at position 4930"
   ]
  },
  {
   "cell_type": "code",
   "execution_count": 39,
   "metadata": {
    "id": "7JKwAXW16dAB"
   },
   "outputs": [],
   "source": [
    "#Lets replace #value with Nan\n",
    "df['Maximum Open Credit']=df['Maximum Open Credit'].replace('#VALUE!', np.nan, regex=True)"
   ]
  },
  {
   "cell_type": "code",
   "execution_count": 40,
   "metadata": {
    "id": "giIS_wU96erR"
   },
   "outputs": [],
   "source": [
    "df['Maximum Open Credit']=pd.to_numeric(df['Maximum Open Credit'])"
   ]
  },
  {
   "cell_type": "code",
   "execution_count": 41,
   "metadata": {},
   "outputs": [
    {
     "data": {
      "text/plain": [
       "0.55       24036.85\n",
       "0.76       37260.00\n",
       "0.87       50737.00\n",
       "0.98      114682.88\n",
       "0.99      171423.93\n",
       "1.00    69988086.00\n",
       "Name: Maximum Open Credit, dtype: float64"
      ]
     },
     "execution_count": 41,
     "metadata": {},
     "output_type": "execute_result"
    }
   ],
   "source": [
    "# Handle Outliers\n",
    "df['Maximum Open Credit'].quantile([0.55,0.76,0.87,0.98,0.99,1])"
   ]
  },
  {
   "cell_type": "code",
   "execution_count": 42,
   "metadata": {},
   "outputs": [],
   "source": [
    "#Lets replace the outliers\n",
    "df.loc[df['Maximum Open Credit'] > 171423, 'Maximum Open Credit'] = 171423"
   ]
  },
  {
   "cell_type": "code",
   "execution_count": 43,
   "metadata": {
    "colab": {
     "base_uri": "https://localhost:8080/"
    },
    "executionInfo": {
     "elapsed": 29,
     "status": "ok",
     "timestamp": 1644400716778,
     "user": {
      "displayName": "Siddhi Jadhav",
      "photoUrl": "https://lh3.googleusercontent.com/a/default-user=s64",
      "userId": "08402691859170607175"
     },
     "user_tz": -330
    },
    "id": "BgrU60uB6qtn",
    "outputId": "a43c0f20-7198-458d-d9e1-a088f5db8a84"
   },
   "outputs": [
    {
     "data": {
      "text/plain": [
       "2"
      ]
     },
     "execution_count": 43,
     "metadata": {},
     "output_type": "execute_result"
    }
   ],
   "source": [
    "df['Maximum Open Credit'].isnull().sum()\n",
    "\n",
    "#Now we have only 2 Nan;s in the df. Lets replace them with mean  "
   ]
  },
  {
   "cell_type": "code",
   "execution_count": 44,
   "metadata": {
    "id": "80SyQVKg6v9u"
   },
   "outputs": [],
   "source": [
    "# Calculating the mean of the \"Maximum Open Credit\" column\n",
    "mean_max_open_credit = df['Maximum Open Credit'].mean()\n",
    "\n",
    "# Filling missing values in the \"Maximum Open Credit\" column with the calculated mean\n",
    "df['Maximum Open Credit'] = df['Maximum Open Credit'].fillna(mean_max_open_credit)\n",
    "\n",
    "# df['Maximum Open Credit']=df['Maximum Open Credit'].fillna(35965)"
   ]
  },
  {
   "cell_type": "code",
   "execution_count": 45,
   "metadata": {
    "colab": {
     "base_uri": "https://localhost:8080/"
    },
    "executionInfo": {
     "elapsed": 19,
     "status": "ok",
     "timestamp": 1644400716779,
     "user": {
      "displayName": "Siddhi Jadhav",
      "photoUrl": "https://lh3.googleusercontent.com/a/default-user=s64",
      "userId": "08402691859170607175"
     },
     "user_tz": -330
    },
    "id": "zGLsq9-G62xh",
    "outputId": "ee35197d-2598-4f07-e0ac-a531fa87f920"
   },
   "outputs": [
    {
     "data": {
      "text/plain": [
       "count    88718.000000\n",
       "mean         0.112672\n",
       "std          0.343300\n",
       "min          0.000000\n",
       "25%          0.000000\n",
       "50%          0.000000\n",
       "75%          0.000000\n",
       "max          7.000000\n",
       "Name: Bankruptcies, dtype: float64"
      ]
     },
     "execution_count": 45,
     "metadata": {},
     "output_type": "execute_result"
    }
   ],
   "source": [
    "## Bankruptcies\n",
    "df['Bankruptcies'].describe()\n"
   ]
  },
  {
   "cell_type": "code",
   "execution_count": 46,
   "metadata": {
    "colab": {
     "base_uri": "https://localhost:8080/"
    },
    "executionInfo": {
     "elapsed": 15,
     "status": "ok",
     "timestamp": 1644400716779,
     "user": {
      "displayName": "Siddhi Jadhav",
      "photoUrl": "https://lh3.googleusercontent.com/a/default-user=s64",
      "userId": "08402691859170607175"
     },
     "user_tz": -330
    },
    "id": "svQF_vyL65Yk",
    "outputId": "4d0696ff-bb86-4f79-9317-e8f9215fb6bb"
   },
   "outputs": [
    {
     "data": {
      "text/plain": [
       "Bankruptcies\n",
       "0.0    79323\n",
       "1.0     8936\n",
       "2.0      353\n",
       "3.0       80\n",
       "4.0       19\n",
       "5.0        5\n",
       "7.0        1\n",
       "6.0        1\n",
       "Name: count, dtype: int64"
      ]
     },
     "execution_count": 46,
     "metadata": {},
     "output_type": "execute_result"
    }
   ],
   "source": [
    "df['Bankruptcies'].value_counts()"
   ]
  },
  {
   "cell_type": "markdown",
   "metadata": {},
   "source": [
    "The Bankruptcies variable is highly skewed (as seen from the value counts: most values are 0, with very few higher numbers). Using the mean could disproportionately inflate the imputation value because of the rare higher values (outliers)."
   ]
  },
  {
   "cell_type": "code",
   "execution_count": 47,
   "metadata": {
    "colab": {
     "base_uri": "https://localhost:8080/"
    },
    "executionInfo": {
     "elapsed": 12,
     "status": "ok",
     "timestamp": 1644400716779,
     "user": {
      "displayName": "Siddhi Jadhav",
      "photoUrl": "https://lh3.googleusercontent.com/a/default-user=s64",
      "userId": "08402691859170607175"
     },
     "user_tz": -330
    },
    "id": "RN3BTL0S69TS",
    "outputId": "884ea139-fc90-4a7c-db4f-e8820e7be4aa"
   },
   "outputs": [
    {
     "data": {
      "text/plain": [
       "array([ 0.,  1., nan,  2.,  4.,  3.,  5.,  7.,  6.])"
      ]
     },
     "execution_count": 47,
     "metadata": {},
     "output_type": "execute_result"
    }
   ],
   "source": [
    "df['Bankruptcies'].unique()\n",
    "#So we have Nan's. Lets fill them with median"
   ]
  },
  {
   "cell_type": "code",
   "execution_count": 48,
   "metadata": {
    "id": "1gbCLGqD6-hG"
   },
   "outputs": [],
   "source": [
    "# Calculating the median of the \"Bankruptcies\" column\n",
    "median_bankruptcies = df['Bankruptcies'].median()\n",
    "\n",
    "# Filling missing values in the \"Bankruptcies\" column with the calculated median\n",
    "df['Bankruptcies'] = df['Bankruptcies'].fillna(median_bankruptcies)\n",
    "# df['Bankruptcies']=df['Bankruptcies'].fillna(3)"
   ]
  },
  {
   "cell_type": "code",
   "execution_count": 49,
   "metadata": {
    "colab": {
     "base_uri": "https://localhost:8080/"
    },
    "executionInfo": {
     "elapsed": 10,
     "status": "ok",
     "timestamp": 1644400716779,
     "user": {
      "displayName": "Siddhi Jadhav",
      "photoUrl": "https://lh3.googleusercontent.com/a/default-user=s64",
      "userId": "08402691859170607175"
     },
     "user_tz": -330
    },
    "id": "F06nUq9Y7CnX",
    "outputId": "b94f41d5-5d46-4fa3-97ba-0cd2ed50716d"
   },
   "outputs": [
    {
     "data": {
      "text/plain": [
       "count    88902.000000\n",
       "mean         0.028222\n",
       "std          0.257533\n",
       "min          0.000000\n",
       "25%          0.000000\n",
       "50%          0.000000\n",
       "75%          0.000000\n",
       "max         15.000000\n",
       "Name: Tax Liens, dtype: float64"
      ]
     },
     "execution_count": 49,
     "metadata": {},
     "output_type": "execute_result"
    }
   ],
   "source": [
    "df['Tax Liens'].describe()"
   ]
  },
  {
   "cell_type": "code",
   "execution_count": 50,
   "metadata": {
    "colab": {
     "base_uri": "https://localhost:8080/"
    },
    "executionInfo": {
     "elapsed": 8,
     "status": "ok",
     "timestamp": 1644400716779,
     "user": {
      "displayName": "Siddhi Jadhav",
      "photoUrl": "https://lh3.googleusercontent.com/a/default-user=s64",
      "userId": "08402691859170607175"
     },
     "user_tz": -330
    },
    "id": "X2t-MGQv7F7w",
    "outputId": "a46b611e-7c90-4617-9a49-724e6bbf358f"
   },
   "outputs": [
    {
     "data": {
      "text/plain": [
       "Tax Liens\n",
       "0.0     87274\n",
       "1.0      1132\n",
       "2.0       305\n",
       "3.0        99\n",
       "4.0        52\n",
       "5.0        17\n",
       "6.0         9\n",
       "7.0         5\n",
       "9.0         4\n",
       "8.0         2\n",
       "15.0        1\n",
       "10.0        1\n",
       "11.0        1\n",
       "Name: count, dtype: int64"
      ]
     },
     "execution_count": 50,
     "metadata": {},
     "output_type": "execute_result"
    }
   ],
   "source": [
    "df['Tax Liens'].value_counts()"
   ]
  },
  {
   "cell_type": "code",
   "execution_count": 51,
   "metadata": {
    "id": "QhAYXmTI10R_"
   },
   "outputs": [],
   "source": [
    "import pandas as pd\n",
    "\n",
    "# List of categorical columns to be factorized\n",
    "cat_cols = ['Term', 'Years in current job', 'Home Ownership', 'Purpose']\n",
    "\n",
    "# Iterating over each categorical column\n",
    "for c in cat_cols:\n",
    "    # Factorizing the categorical column and assigning the codes back to the dfFrame\n",
    "    df[c] = df[c].astype('category').cat.codes"
   ]
  },
  {
   "cell_type": "markdown",
   "metadata": {},
   "source": [
    "SoftImpute is a powerful tool for handling missing df by leveraging matrix factorization techniques. It provides a robust way to impute missing values while preserving the underlying structure of the df."
   ]
  },
  {
   "cell_type": "code",
   "execution_count": 54,
   "metadata": {
    "colab": {
     "base_uri": "https://localhost:8080/"
    },
    "executionInfo": {
     "elapsed": 12432,
     "status": "ok",
     "timestamp": 1644400729206,
     "user": {
      "displayName": "Siddhi Jadhav",
      "photoUrl": "https://lh3.googleusercontent.com/a/default-user=s64",
      "userId": "08402691859170607175"
     },
     "user_tz": -330
    },
    "id": "nZHJqhHq16Gi",
    "outputId": "d7a47598-93ad-4ab9-d1f6-f7af52b4cdda"
   },
   "outputs": [
    {
     "name": "stdout",
     "output_type": "stream",
     "text": [
      "[SoftImpute] Max Singular Value of X_init = 23092208.626175\n",
      "[SoftImpute] Iter 1: observed MAE=261.590769 rank=3\n",
      "[SoftImpute] Iter 2: observed MAE=258.659057 rank=3\n",
      "[SoftImpute] Iter 3: observed MAE=258.318215 rank=3\n",
      "[SoftImpute] Iter 4: observed MAE=258.295367 rank=3\n",
      "[SoftImpute] Iter 5: observed MAE=258.315118 rank=3\n",
      "[SoftImpute] Iter 6: observed MAE=258.340504 rank=3\n",
      "[SoftImpute] Iter 7: observed MAE=258.365968 rank=3\n",
      "[SoftImpute] Iter 8: observed MAE=258.390463 rank=3\n",
      "[SoftImpute] Iter 9: observed MAE=258.413768 rank=3\n",
      "[SoftImpute] Iter 10: observed MAE=258.435785 rank=3\n",
      "[SoftImpute] Iter 11: observed MAE=258.456458 rank=3\n",
      "[SoftImpute] Iter 12: observed MAE=258.475717 rank=3\n",
      "[SoftImpute] Iter 13: observed MAE=258.493689 rank=3\n",
      "[SoftImpute] Iter 14: observed MAE=258.510357 rank=3\n",
      "[SoftImpute] Iter 15: observed MAE=258.525747 rank=3\n",
      "[SoftImpute] Iter 16: observed MAE=258.539967 rank=3\n",
      "[SoftImpute] Iter 17: observed MAE=258.553169 rank=3\n",
      "[SoftImpute] Iter 18: observed MAE=258.565323 rank=3\n",
      "[SoftImpute] Iter 19: observed MAE=258.576375 rank=3\n",
      "[SoftImpute] Iter 20: observed MAE=258.586439 rank=3\n",
      "[SoftImpute] Iter 21: observed MAE=258.595541 rank=3\n",
      "[SoftImpute] Iter 22: observed MAE=258.603852 rank=3\n",
      "[SoftImpute] Iter 23: observed MAE=258.611270 rank=3\n",
      "[SoftImpute] Iter 24: observed MAE=258.617797 rank=3\n",
      "[SoftImpute] Iter 25: observed MAE=258.623544 rank=3\n",
      "[SoftImpute] Iter 26: observed MAE=258.628565 rank=3\n",
      "[SoftImpute] Iter 27: observed MAE=258.632862 rank=3\n",
      "[SoftImpute] Iter 28: observed MAE=258.636532 rank=3\n",
      "[SoftImpute] Iter 29: observed MAE=258.639563 rank=3\n",
      "[SoftImpute] Iter 30: observed MAE=258.641908 rank=3\n",
      "[SoftImpute] Iter 31: observed MAE=258.643665 rank=3\n",
      "[SoftImpute] Iter 32: observed MAE=258.644839 rank=3\n",
      "[SoftImpute] Iter 33: observed MAE=258.645448 rank=3\n",
      "[SoftImpute] Iter 34: observed MAE=258.645551 rank=3\n",
      "[SoftImpute] Iter 35: observed MAE=258.645220 rank=3\n",
      "[SoftImpute] Iter 36: observed MAE=258.644530 rank=3\n",
      "[SoftImpute] Iter 37: observed MAE=258.643464 rank=3\n",
      "[SoftImpute] Iter 38: observed MAE=258.642051 rank=3\n",
      "[SoftImpute] Iter 39: observed MAE=258.640243 rank=3\n",
      "[SoftImpute] Iter 40: observed MAE=258.638063 rank=3\n",
      "[SoftImpute] Iter 41: observed MAE=258.635620 rank=3\n",
      "[SoftImpute] Iter 42: observed MAE=258.632885 rank=3\n",
      "[SoftImpute] Iter 43: observed MAE=258.629872 rank=3\n",
      "[SoftImpute] Iter 44: observed MAE=258.626656 rank=3\n",
      "[SoftImpute] Iter 45: observed MAE=258.623199 rank=3\n",
      "[SoftImpute] Iter 46: observed MAE=258.619510 rank=3\n",
      "[SoftImpute] Iter 47: observed MAE=258.615624 rank=3\n",
      "[SoftImpute] Iter 48: observed MAE=258.611575 rank=3\n",
      "[SoftImpute] Iter 49: observed MAE=258.607359 rank=3\n",
      "[SoftImpute] Iter 50: observed MAE=258.603016 rank=3\n",
      "[SoftImpute] Iter 51: observed MAE=258.598542 rank=3\n",
      "[SoftImpute] Iter 52: observed MAE=258.593933 rank=3\n",
      "[SoftImpute] Iter 53: observed MAE=258.589210 rank=3\n",
      "[SoftImpute] Iter 54: observed MAE=258.584379 rank=3\n",
      "[SoftImpute] Iter 55: observed MAE=258.579464 rank=3\n",
      "[SoftImpute] Iter 56: observed MAE=258.574488 rank=3\n",
      "[SoftImpute] Iter 57: observed MAE=258.569474 rank=3\n",
      "[SoftImpute] Iter 58: observed MAE=258.564398 rank=3\n",
      "[SoftImpute] Iter 59: observed MAE=258.559252 rank=3\n",
      "[SoftImpute] Iter 60: observed MAE=258.554094 rank=3\n",
      "[SoftImpute] Iter 61: observed MAE=258.548922 rank=3\n",
      "[SoftImpute] Iter 62: observed MAE=258.543728 rank=3\n",
      "[SoftImpute] Iter 63: observed MAE=258.538515 rank=3\n",
      "[SoftImpute] Iter 64: observed MAE=258.533280 rank=3\n",
      "[SoftImpute] Iter 65: observed MAE=258.528004 rank=3\n",
      "[SoftImpute] Iter 66: observed MAE=258.522714 rank=3\n",
      "[SoftImpute] Iter 67: observed MAE=258.517426 rank=3\n",
      "[SoftImpute] Iter 68: observed MAE=258.512157 rank=3\n",
      "[SoftImpute] Iter 69: observed MAE=258.506921 rank=3\n",
      "[SoftImpute] Iter 70: observed MAE=258.501717 rank=3\n",
      "[SoftImpute] Iter 71: observed MAE=258.496525 rank=3\n",
      "[SoftImpute] Iter 72: observed MAE=258.491350 rank=3\n",
      "[SoftImpute] Iter 73: observed MAE=258.486197 rank=3\n",
      "[SoftImpute] Iter 74: observed MAE=258.481079 rank=3\n",
      "[SoftImpute] Iter 75: observed MAE=258.476018 rank=3\n",
      "[SoftImpute] Iter 76: observed MAE=258.470991 rank=3\n",
      "[SoftImpute] Iter 77: observed MAE=258.466015 rank=3\n",
      "[SoftImpute] Iter 78: observed MAE=258.461085 rank=3\n",
      "[SoftImpute] Iter 79: observed MAE=258.456201 rank=3\n",
      "[SoftImpute] Iter 80: observed MAE=258.451383 rank=3\n",
      "[SoftImpute] Iter 81: observed MAE=258.446618 rank=3\n",
      "[SoftImpute] Iter 82: observed MAE=258.441912 rank=3\n",
      "[SoftImpute] Iter 83: observed MAE=258.437266 rank=3\n",
      "[SoftImpute] Iter 84: observed MAE=258.432681 rank=3\n",
      "[SoftImpute] Iter 85: observed MAE=258.428160 rank=3\n",
      "[SoftImpute] Iter 86: observed MAE=258.423703 rank=3\n",
      "[SoftImpute] Iter 87: observed MAE=258.419302 rank=3\n",
      "[SoftImpute] Iter 88: observed MAE=258.414960 rank=3\n",
      "[SoftImpute] Iter 89: observed MAE=258.410675 rank=3\n",
      "[SoftImpute] Iter 90: observed MAE=258.406450 rank=3\n",
      "[SoftImpute] Iter 91: observed MAE=258.402290 rank=3\n",
      "[SoftImpute] Iter 92: observed MAE=258.398190 rank=3\n",
      "[SoftImpute] Iter 93: observed MAE=258.394148 rank=3\n",
      "[SoftImpute] Iter 94: observed MAE=258.390168 rank=3\n",
      "[SoftImpute] Iter 95: observed MAE=258.386246 rank=3\n",
      "[SoftImpute] Iter 96: observed MAE=258.382385 rank=3\n",
      "[SoftImpute] Iter 97: observed MAE=258.378591 rank=3\n",
      "[SoftImpute] Iter 98: observed MAE=258.374862 rank=3\n",
      "[SoftImpute] Iter 99: observed MAE=258.371200 rank=3\n",
      "[SoftImpute] Iter 100: observed MAE=258.367607 rank=3\n",
      "[SoftImpute] Stopped after iteration 100 for lambda=461844.172523\n"
     ]
    }
   ],
   "source": [
    "#Imputing missing df with soft impute\n",
    "updated_df=pd.DataFrame(data=SoftImpute().fit_transform(df[df.columns[3:19]],), columns=df[df.columns[3:19]].columns, index=df.index)\n",
    "#Getting the dfset ready pd.get dummies function for dropping the dummy variables\n",
    "df_LC = pd.get_dummies(updated_df, drop_first=True)"
   ]
  },
  {
   "cell_type": "code",
   "execution_count": 57,
   "metadata": {
    "colab": {
     "base_uri": "https://localhost:8080/"
    },
    "executionInfo": {
     "elapsed": 625,
     "status": "ok",
     "timestamp": 1644400729822,
     "user": {
      "displayName": "Siddhi Jadhav",
      "photoUrl": "https://lh3.googleusercontent.com/a/default-user=s64",
      "userId": "08402691859170607175"
     },
     "user_tz": -330
    },
    "id": "ddDq2gpJ2A1f",
    "outputId": "5ccefed7-9946-4f70-f512-2ca82aeb9139"
   },
   "outputs": [
    {
     "name": "stdout",
     "output_type": "stream",
     "text": [
      "[[-0.1869176   0.57302977  0.06886311 ... -0.79845    -0.32781073\n",
      "  -0.10958408]\n",
      " [ 1.48349848 -1.74511004  0.26644983 ...  1.83826484 -0.32781073\n",
      "  -0.10958408]\n",
      " [ 0.32079375  0.57302977 -0.08920626 ... -0.53976837  2.58792074\n",
      "  -0.10958408]\n",
      " ...\n",
      " [ 1.40247376  0.57302977  0.78017528 ...  0.912336   -0.32781073\n",
      "  -0.10958408]\n",
      " [-1.1281112   0.57302977 -0.16824094 ... -0.40393133 -0.32781073\n",
      "  -0.10958408]\n",
      " [ 0.62515919  0.57302977 -0.32631031 ... -0.30217594 -0.32781073\n",
      "   3.77361205]]\n",
      "   \n",
      "(88910, 16)\n"
     ]
    }
   ],
   "source": [
    "# converting the target variable \"Loan Status\" to binary variable\n",
    "from sklearn.preprocessing import LabelBinarizer\n",
    "from sklearn.preprocessing import StandardScaler\n",
    "label_binarizer = LabelBinarizer()\n",
    "y = label_binarizer.fit_transform(df['Loan Status']).ravel()\n",
    "\n",
    "# Scaling the independent variables\n",
    "scaler = StandardScaler()\n",
    "X_scaled = scaler.fit_transform(df_LC)\n",
    "\n",
    "# Printing the scaled independent variables\n",
    "print(X_scaled)\n",
    "print('   ')\n",
    "print(X_scaled.shape)"
   ]
  },
  {
   "cell_type": "code",
   "execution_count": 58,
   "metadata": {},
   "outputs": [
    {
     "data": {
      "text/plain": [
       "(88910,)"
      ]
     },
     "execution_count": 58,
     "metadata": {},
     "output_type": "execute_result"
    }
   ],
   "source": [
    "y.shape"
   ]
  },
  {
   "cell_type": "markdown",
   "metadata": {},
   "source": [
    "## **Summary of what we did**\n",
    "\n",
    "In this tutorial, we conducted comprehensive Exploratory df Analysis (EDA) to gain insights into the loan application df and prepare it for modeling. The EDA process involved several key steps:\n",
    "\n",
    "**Data Cleaning:** We began by examining the dfset for missing values, inconsistencies, and outliers. Missing values were handled using various imputation techniques, such as filling with median or mean values, and using advanced methods like SoftImpute for more accurate imputation. Outliers were identified and treated to ensure they did not skew the analysis.\n",
    "\n",
    "**Descriptive Statistics:** We calculated summary statistics for numerical features, including mean, median, standard deviation, and percentiles. This helped us understand the central tendency and dispersion of the df. For categorical features, we computed frequency distributions to identify the most common categories.\n",
    "\n",
    "\n",
    "**Binarizing and Scaling:** We binarized the target variable, \"Loan Status,\" to convert it into a binary format suitable for classification models. Independent variables were scaled using standardization techniques to ensure they had zero mean and unit variance, which is essential for many machine learning algorithms.\n",
    "\n",
    "**Categorical Encoding:** Categorical variables were encoded using techniques like one-hot encoding to convert them into numerical format. This allowed us to include categorical features in our models without introducing bias.\n",
    "\n",
    "**Outlier Treatment:** We identified and treated outliers in key features such as \"Annual Income\" and \"Credit Score.\" For instance, values in the 99th percentile were capped to reduce their impact on the analysis and modeling.\n",
    "\n",
    "**Target Variable Analysis:** We analyzed the distribution of the target variable, \"Loan Status,\" to understand the balance between approved and non-approved loans. This helped us identify potential class imbalance issues that could affect model performance.\n",
    "\n",
    "By conducting thorough EDA, we were able to uncover valuable insights about the dfset, address df quality issues, and create a solid foundation for building robust predictive models. The EDA process not only improved our understanding of the df but also guided our feature engineering and model selection efforts, ultimately contributing to more accurate and reliable loan approval predictions."
   ]
  },
  {
   "cell_type": "markdown",
   "metadata": {},
   "source": [
    "## Training model\n",
    "\n",
    "As part of training, we feed our machine learning model lots of df and reward it for making accurate predictions. We split our cleaned and preprocessed df into training and testing sets, allowing the model to learn patterns and relationships from the training df.We then test the learned patterns on test df. By the end of this step, our model becomes a well-trained \"df detective,\" ready to predict loan eligibility with impressive accuracy!\n",
    "\n",
    "**Few Imp details:**\n",
    "\n",
    "**Cross-Validation**\n",
    "\n",
    "Cross-validation is a technique to evaluate a model's performance by splitting the df into multiple parts. The model is trained on some parts and tested on the remaining part. This process is repeated several times to ensure the model performs well on different subsets of df.\n",
    "\n",
    "**Grid Search CV**\n",
    "\n",
    "GridSearchCV is a method to find the best hyperparameters for a model. It tries different combinations of parameters and uses cross-validation to evaluate each combination. The best set of parameters is chosen based on the performance metrics."
   ]
  },
  {
   "cell_type": "code",
   "execution_count": 60,
   "metadata": {},
   "outputs": [
    {
     "name": "stdout",
     "output_type": "stream",
     "text": [
      "Best Parameters:  {'C': 0.01, 'max_iter': 100, 'penalty': 'l1', 'solver': 'liblinear'}\n",
      "Area under the ROC curve:  0.6744310071673144\n"
     ]
    }
   ],
   "source": [
    "from sklearn.linear_model import LogisticRegression\n",
    "from sklearn.model_selection import GridSearchCV,train_test_split\n",
    "from sklearn.metrics import accuracy_score, roc_auc_score, f1_score, classification_report\n",
    "\n",
    "# Splitting the df into training and testing sets\n",
    "X_train, X_test, y_train, y_test = train_test_split(X_scaled, y, test_size=0.2, random_state=42)\n",
    "\n",
    "# Initializing the Logistic Regression classifier\n",
    "log_reg = LogisticRegression()\n",
    "\n",
    "# Defining the parameter grid for hyperparameter tuning\n",
    "param_grid = {\n",
    "    'penalty': ['l1', 'l2', 'elasticnet', 'none'],\n",
    "    'C': [0.01, 0.1, 1, 10, 100],\n",
    "    'solver': ['newton-cg', 'lbfgs', 'liblinear', 'sag', 'saga'],\n",
    "    'max_iter': [100, 200, 300]\n",
    "}\n",
    "\n",
    "# Initializing GridSearchCV with 5-fold cross-validation\n",
    "grid_search = GridSearchCV(estimator=log_reg, param_grid=param_grid, cv=5, scoring='roc_auc', n_jobs=-1, verbose=0)\n",
    "\n",
    "# Fitting GridSearchCV to the training df\n",
    "grid_search.fit(X_train, y_train)\n",
    "\n",
    "# Getting the best estimator from the grid search\n",
    "best_log_reg = grid_search.best_estimator_\n",
    "\n",
    "# Predicting the labels and probabilities for the test df using the best model\n",
    "y_pred = best_log_reg.predict(X_test)\n",
    "y_pred_proba = best_log_reg.predict_proba(X_test)[:, 1]\n",
    "\n",
    "# Evaluating the best model\n",
    "print(\"Best Parameters: \", grid_search.best_params_)\n",
    "\n",
    "print(\"Area under the ROC curve: \", roc_auc_score(y_test, y_pred_proba))\n"
   ]
  },
  {
   "cell_type": "code",
   "execution_count": 63,
   "metadata": {},
   "outputs": [
    {
     "data": {
      "image/png": "[encoded data removed]",
      "text/plain": [
       "<Figure size 640x480 with 1 Axes>"
      ]
     },
     "metadata": {},
     "output_type": "display_data"
    }
   ],
   "source": [
    "from sklearn.metrics import roc_curve,auc\n",
    "# Calculate the false positive rate, true positive rate, and thresholds\n",
    "fpr, tpr, thresholds = roc_curve(y_test, y_pred_proba)\n",
    "\n",
    "# Calculate the AUC (Area Under the Curve)\n",
    "roc_auc = auc(fpr, tpr)\n",
    "\n",
    "# Plotting the AUC-ROC curve\n",
    "plt.figure()\n",
    "plt.plot(fpr, tpr, color='darkorange', lw=2, label='ROC curve (area = %0.2f)' % roc_auc)\n",
    "plt.plot([0, 1], [0, 1], color='navy', lw=2, linestyle='--')\n",
    "plt.xlim([0.0, 1.0])\n",
    "plt.ylim([0.0, 1.05])\n",
    "plt.xlabel('False Positive Rate')\n",
    "plt.ylabel('True Positive Rate')\n",
    "plt.title('Receiver Operating Characteristic (ROC) Curve')\n",
    "plt.legend(loc=\"lower right\")\n",
    "plt.show()"
   ]
  },
  {
   "cell_type": "markdown",
   "metadata": {},
   "source": [
    "## Now lets try with some complex model\n",
    "\n",
    "## XGBoost !!!"
   ]
  },
  {
   "cell_type": "markdown",
   "metadata": {},
   "source": [
    "**High Performance:** XGBoost is known for its high performance and efficiency. It often outperforms other algorithms in terms of accuracy and speed, making it a popular choice for many machine learning tasks.\n",
    "Handling Missing Values: XGBoost can handle missing values internally, which is beneficial when dealing with real-world dfsets that often have incomplete df.\n",
    "\n",
    "**Feature Importance:** XGBoost provides insights into feature importance, helping us understand which features contribute most to the predictions."
   ]
  },
  {
   "cell_type": "code",
   "execution_count": 64,
   "metadata": {},
   "outputs": [
    {
     "name": "stdout",
     "output_type": "stream",
     "text": [
      "Best Parameters:  {'colsample_bytree': 0.8, 'learning_rate': 0.1, 'max_depth': 5, 'n_estimators': 100, 'subsample': 1.0}\n",
      "Area under the ROC curve:  0.7555664451018431\n"
     ]
    }
   ],
   "source": [
    "import xgboost as xgb\n",
    "from sklearn.model_selection import train_test_split, GridSearchCV\n",
    "from sklearn.metrics import accuracy_score, roc_auc_score, f1_score, classification_report\n",
    "\n",
    "# Splitting the df into training and testing sets\n",
    "X_train, X_test, y_train, y_test = train_test_split(X_scaled, y, test_size=0.2, random_state=42)\n",
    "\n",
    "# Initializing the XGBoost classifier\n",
    "xgb_model = xgb.XGBClassifier()\n",
    "\n",
    "# Defining the parameter grid for hyperparameter tuning\n",
    "param_grid = {\n",
    "    'n_estimators': [50, 100, 200],\n",
    "    'max_depth': [3, 5, 7],\n",
    "    'learning_rate': [0.01, 0.1, 0.2],\n",
    "    'subsample': [0.6, 0.8, 1.0],\n",
    "    'colsample_bytree': [0.6, 0.8, 1.0]\n",
    "}\n",
    "\n",
    "# Initializing GridSearchCV with 5-fold cross-validation\n",
    "grid_search = GridSearchCV(estimator=xgb_model, param_grid=param_grid, cv=5, scoring='roc_auc', n_jobs=-1, verbose=0)\n",
    "\n",
    "# Fitting GridSearchCV to the training df\n",
    "grid_search.fit(X_train, y_train)\n",
    "\n",
    "# Getting the best estimator from the grid search\n",
    "best_xgb_model = grid_search.best_estimator_\n",
    "\n",
    "# Predicting the labels and probabilities for the test df using the best model\n",
    "y_pred = best_xgb_model.predict(X_test)\n",
    "y_pred_proba = best_xgb_model.predict_proba(X_test)[:, 1]\n",
    "\n",
    "# Evaluating the best model\n",
    "print(\"Best Parameters: \", grid_search.best_params_)\n",
    "print(\"Area under the ROC curve: \", roc_auc_score(y_test, y_pred_proba))\n"
   ]
  },
  {
   "cell_type": "code",
   "execution_count": 65,
   "metadata": {},
   "outputs": [
    {
     "data": {
      "image/png": "[encoded data removed]",
      "text/plain": [
       "<Figure size 640x480 with 1 Axes>"
      ]
     },
     "metadata": {},
     "output_type": "display_data"
    }
   ],
   "source": [
    "import matplotlib.pyplot as plt\n",
    "\n",
    "# Calculate the false positive rate, true positive rate, and thresholds\n",
    "fpr, tpr, thresholds = roc_curve(y_test, y_pred_proba)\n",
    "\n",
    "# Calculate the AUC (Area Under the Curve)\n",
    "roc_auc = auc(fpr, tpr)\n",
    "\n",
    "# Plotting the AUC-ROC curve\n",
    "plt.figure()\n",
    "plt.plot(fpr, tpr, color='darkorange', lw=2, label='ROC curve (area = %0.2f)' % roc_auc)\n",
    "plt.plot([0, 1], [0, 1], color='navy', lw=2, linestyle='--')\n",
    "plt.xlim([0.0, 1.0])\n",
    "plt.ylim([0.0, 1.05])\n",
    "plt.xlabel('False Positive Rate')\n",
    "plt.ylabel('True Positive Rate')\n",
    "plt.title('Receiver Operating Characteristic (ROC) Curve')\n",
    "plt.legend(loc=\"lower right\")\n",
    "plt.show()"
   ]
  },
  {
   "cell_type": "markdown",
   "metadata": {},
   "source": [
    "## Interpretation of Results:\n",
    "\n",
    "**Logistic Regression Observations:**\n",
    "\n",
    "1.\t**Area Under the ROC Curve (AUC):**\n",
    "    0.674 (indicating the model’s ability to distinguish between classes is moderate).\n",
    "2. Logistic Regression with these parameters performs decently but has limitations in capturing complex relationships due to its linear nature.\n",
    "\n",
    "**XGBoost Observations**\n",
    "\n",
    "1. **Area Under the ROC Curve (AUC):**\n",
    "    0.756 (a significant improvement over Logistic Regression).\n",
    "2. XGBoost outperforms Logistic Regression in terms of ROC AUC due to its ability to capture non-linear patterns and interactions.\n",
    "3. It is more complex and computationally intensive but yields better predictive performance.\n",
    "\n",
    "Overall,  XGBoost excels with a higher AUC, showing its suitability for dfsets requiring the capture of non-linear relationships and interactions. It’s a better choice for predictive performance."
   ]
  },
  {
   "cell_type": "markdown",
   "metadata": {},
   "source": [
    "### Futher Resources:\n",
    "\n",
    "You can check out these links if you want to further learn more about research done on this topic."
   ]
  },
  {
   "cell_type": "markdown",
   "metadata": {},
   "source": [
    "1. https://ieomsociety.org/proceedings/2022orlando/328.pdf\n",
    "2. https://ieeexplore.ieee.org/document/10073318\n",
    "3. https://www.scitepress.org/Papers/2024/128282/128282.pdf\n",
    "4. https://www.ijnrd.org/papers/IJNRD2407179.pdf"
   ]
  }
 ],
 "metadata": {
  "colab": {
   "collapsed_sections": [],
   "name": "Loan_Eligibility_Prediction_using_Gradient_Boosting_Classifier_prediction.ipynb",
   "provenance": []
  },
  "kernelspec": {
   "display_name": "msml-602",
   "language": "python",
   "name": "python3"
  },
  "language_info": {
   "codemirror_mode": {
    "name": "ipython",
    "version": 3
   },
   "file_extension": ".py",
   "mimetype": "text/x-python",
   "name": "python",
   "nbconvert_exporter": "python",
   "pygments_lexer": "ipython3",
   "version": "3.9.19"
  }
 },
 "nbformat": 4,
 "nbformat_minor": 0
}
